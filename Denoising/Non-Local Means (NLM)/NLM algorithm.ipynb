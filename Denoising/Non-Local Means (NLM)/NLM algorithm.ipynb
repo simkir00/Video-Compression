{
 "cells": [
  {
   "cell_type": "markdown",
   "metadata": {},
   "source": [
    "#### Подключение библиотек"
   ]
  },
  {
   "cell_type": "code",
   "execution_count": null,
   "metadata": {},
   "outputs": [],
   "source": [
    "import numpy as np\n",
    "import cv2 as cv\n",
    "\n",
    "import os\n",
    "from pathlib import Path\n",
    "\n",
    "from skimage.restoration import denoise_nl_means, estimate_sigma\n",
    "from skimage.metrics import peak_signal_noise_ratio as psnr\n",
    "from skimage import img_as_ubyte\n",
    "from skimage.util import random_noise"
   ]
  },
  {
   "cell_type": "markdown",
   "metadata": {},
   "source": [
    "#### Обработка видео (реализация Non-local means алгоритма)"
   ]
  },
  {
   "cell_type": "code",
   "execution_count": null,
   "metadata": {},
   "outputs": [],
   "source": [
    "# Non-local means algorithm returning psnr measure for denoised video\n",
    "def nonLocalMeans(filename, params, output_name):\n",
    "    \n",
    "    # Get required parametrs\n",
    "    h1, template_window_size, search_window_size = params\n",
    "    \n",
    "    # Capture original (without noise) video\n",
    "    orig_cap = cv.VideoCapture(\"in/taolu.avi\")\n",
    "    average_psnr = 0\n",
    "    \n",
    "    # Capture video\n",
    "    cap = cv.VideoCapture(filename)\n",
    "\n",
    "    # Get frames count\n",
    "    n_frames = int(cap.get(cv.CAP_PROP_FRAME_COUNT))\n",
    "    print(f\"Frames count: {n_frames}\")\n",
    "\n",
    "    # Get width and height of video stream\n",
    "    w = int(cap.get(cv.CAP_PROP_FRAME_WIDTH))\n",
    "    h = int(cap.get(cv.CAP_PROP_FRAME_HEIGHT))\n",
    "    print(f\"Video size: {w}×{h} pixels\")\n",
    "\n",
    "    # Get video stream fps\n",
    "    fps = cap.get(cv.CAP_PROP_FPS)\n",
    "    print(f\"Video fps: {fps:.5} frames per second\")\n",
    "    \n",
    "    # Define the codec for output video\n",
    "    fourcc = cv.VideoWriter_fourcc(*\"I420\")\n",
    "\n",
    "    # Set up output video\n",
    "    out = cv.VideoWriter(output_name, fourcc, fps, (w, h))\n",
    "    \n",
    "    # Define non-local means parametrs\n",
    "    patch_kw = dict(patch_size=template_window_size, patch_distance=search_window_size, fast_mode=True, multichannel=True)\n",
    "\n",
    "    for i in range(n_frames):\n",
    "\n",
    "        res, frame = cap.read()\n",
    "        _, orig_frame = orig_cap.read()\n",
    "        if not res:\n",
    "            print(f\"Frame {i+1}: end of stream\")\n",
    "            break\n",
    "\n",
    "        sigma_est = np.mean(estimate_sigma(frame.astype(\"float\"), multichannel=True))\n",
    "\n",
    "        denoised_frame = denoise_nl_means(frame.astype(\"float\"), h=h1*sigma_est, sigma=sigma_est, **patch_kw)\n",
    "        denoised_frame = img_as_ubyte(denoised_frame / 255)\n",
    "        \n",
    "        average_psnr += psnr(orig_frame, denoised_frame)\n",
    "        \n",
    "        out.write(denoised_frame)\n",
    "\n",
    "        print(f\"Frame {i+1} was denoised\")\n",
    "    \n",
    "    average_psnr /= n_frames\n",
    "    \n",
    "    cap.release()\n",
    "    out.release()\n",
    "    cv.destroyAllWindows()\n",
    "    \n",
    "    return average_psnr"
   ]
  },
  {
   "cell_type": "markdown",
   "metadata": {},
   "source": [
    "#### Подбор параметров"
   ]
  },
  {
   "cell_type": "code",
   "execution_count": null,
   "metadata": {},
   "outputs": [],
   "source": [
    "H1 = [0.35, 0.6, 0.8, 1.15]\n",
    "TMPLT_SIZE = [5, 7]\n",
    "SRCH_SIZE = [6, 10]"
   ]
  },
  {
   "cell_type": "code",
   "execution_count": null,
   "metadata": {
    "scrolled": true
   },
   "outputs": [],
   "source": [
    "best_psnr = [-1 for i in range(5)]\n",
    "best_videos = [\"\" for i in range(5)]\n",
    "best_params = [[] for i in range(5)]\n",
    "\n",
    "index = 0\n",
    "\n",
    "for h1 in H1:\n",
    "    for template_size in TMPLT_SIZE:\n",
    "        for search_size in SRCH_SIZE:\n",
    "\n",
    "            input_name = \"in/taolu_artificial_noise.avi\"\n",
    "            output_name = \"out/taolu_denoised_example\" + str(index) + \".avi\"\n",
    "            \n",
    "            params = [h1, template_size, search_size]\n",
    "                    \n",
    "            video_psnr = nonLocalMeans(input_name, params, output_name)\n",
    "            \n",
    "            min_best = min(best_psnr)\n",
    "            i_min = best_psnr.index(min_best)\n",
    "            if video_psnr > min_best:\n",
    "                best_psnr[i_min] = video_psnr\n",
    "                if best_videos[i_min] != \"\":\n",
    "                    os.remove(best_videos[i_min])\n",
    "                    # time.sleep(3)\n",
    "                best_videos[i_min] = output_name\n",
    "                best_params[i_min] = params\n",
    "            else:\n",
    "                os.remove(output_name)\n",
    "                # time.sleep(3)\n",
    "            \n",
    "            index += 1\n",
    "            print(f\"Index: {index}\")"
   ]
  },
  {
   "cell_type": "code",
   "execution_count": null,
   "metadata": {},
   "outputs": [],
   "source": [
    "print(\"Best videos and their parametrs:\")\n",
    "for i in range (len(best_videos)):\n",
    "    print(f\"File name: {best_videos[i]} | PSNR: {best_psnr[i]}\")\n",
    "    print(f\" h1: {best_params[i][0]}, template_window_size: {best_params[i][1]}, search_window_size: {best_params[i][2]}\")"
   ]
  }
 ],
 "metadata": {
  "kernelspec": {
   "display_name": "Python 3",
   "language": "python",
   "name": "python3"
  },
  "language_info": {
   "codemirror_mode": {
    "name": "ipython",
    "version": 3
   },
   "file_extension": ".py",
   "mimetype": "text/x-python",
   "name": "python",
   "nbconvert_exporter": "python",
   "pygments_lexer": "ipython3",
   "version": "3.7.4"
  }
 },
 "nbformat": 4,
 "nbformat_minor": 4
}
