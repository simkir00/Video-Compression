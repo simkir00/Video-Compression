{
 "cells": [
  {
   "cell_type": "markdown",
   "metadata": {},
   "source": [
    "#### Подключение библиотек"
   ]
  },
  {
   "cell_type": "code",
   "execution_count": null,
   "metadata": {},
   "outputs": [],
   "source": [
    "import numpy as np\n",
    "import cv2 as cv\n",
    "\n",
    "from PIL import Image\n",
    "\n",
    "import os\n",
    "from pathlib import Path\n",
    "\n",
    "from skimage.restoration import denoise_nl_means, estimate_sigma\n",
    "from skimage.metrics import peak_signal_noise_ratio as psnr\n",
    "from skimage import img_as_ubyte\n",
    "from skimage.util import random_noise"
   ]
  },
  {
   "cell_type": "markdown",
   "metadata": {},
   "source": [
    "#### Обработка видео"
   ]
  },
  {
   "cell_type": "code",
   "execution_count": null,
   "metadata": {},
   "outputs": [],
   "source": [
    "# Auxiliary function for padding creation\n",
    "def addPad(imgs, radius):\n",
    "    for i in range(radius):\n",
    "        imgs.insert(0, imgs[0])\n",
    "        imgs.insert(-1, imgs[-1])\n",
    "    return imgs\n",
    "\n",
    "\n",
    "def temporalNonLocalMeans(input_name, output_name):\n",
    "    # Capture video\n",
    "    cap = cv.VideoCapture(input_name)\n",
    "\n",
    "    n_frames = int(cap.get(cv.CAP_PROP_FRAME_COUNT))\n",
    "    print(f\"Frames count: {n_frames}\")\n",
    "\n",
    "    w = int(cap.get(cv.CAP_PROP_FRAME_WIDTH))\n",
    "    h = int(cap.get(cv.CAP_PROP_FRAME_HEIGHT))\n",
    "    print(f\"Video size: {w}×{h} pixels\")\n",
    "\n",
    "    fps = cap.get(cv.CAP_PROP_FPS)\n",
    "    print(f\"Video fps: {fps:.3} frames per second\")\n",
    "\n",
    "    # Define the codec for output video\n",
    "    fourcc = cv.VideoWriter_fourcc(*\"I420\")\n",
    "\n",
    "    # Set up output video\n",
    "    out = cv.VideoWriter(output_name, fourcc, fps, (w, h))\n",
    "    \n",
    "    # Create video components lists\n",
    "    imgs = []\n",
    "    u = []\n",
    "    v = []\n",
    "    \n",
    "    for i in range(n_frames):\n",
    "        \n",
    "        res, frame = cap.read()\n",
    "        if not res:\n",
    "            print(f\"Frame {i+1}: End of stream\")\n",
    "        \n",
    "        frame = cv.cvtColor(frame, cv.COLOR_BGR2YUV)\n",
    "        \n",
    "        imgs.append(frame[:,:, 0])\n",
    "        u.append(frame[:,:, 1])\n",
    "        v.append(frame[:,:, 2])\n",
    "    \n",
    "    # Luma component processing\n",
    "    radius = 2\n",
    "    imgs = addPad(imgs, radius)\n",
    "    \n",
    "    denoised_imgs = []\n",
    "    \n",
    "    for i in range(radius, n_frames + radius):\n",
    "        sigma_est = np.mean(estimate_sigma(imgs[i]))\n",
    "        \n",
    "        denoised_imgs.append(cv.fastNlMeansDenoisingMulti(srcImgs = imgs,\n",
    "                                                          imgToDenoiseIndex = i,\n",
    "                                                          temporalWindowSize = 2 * radius + 1,\n",
    "                                                          h = sigma_est * 1.15,\n",
    "                                                          templateWindowSize = 5, \n",
    "                                                          searchWindowSize = 13))\n",
    "        print(f\"Frame {i - radius + 1} was denoised\")\n",
    "    \n",
    "    print(imgs[1] - denoised_imgs[0])\n",
    "    \n",
    "    for i in range(len(denoised_imgs)):\n",
    "        \n",
    "        # Build the output denoised frame\n",
    "        frame = np.zeros((h,w,3), dtype = np.uint8)\n",
    "        frame[:, :, 0] = denoised_imgs[i]\n",
    "        frame[:, :, 1] = u[i]\n",
    "        frame[:, :, 2] = v[i]\n",
    "        \n",
    "        frame = cv.cvtColor(frame, cv.COLOR_YUV2BGR)\n",
    "        cv.imshow(\"\", frame)\n",
    "        cv.waitKey(25)\n",
    "        out.write(frame)\n",
    "        print(f\"Frame {i+1} was written\")\n",
    "    \n",
    "    cap.release()\n",
    "    out.release()\n",
    "    cv.destroyAllWindows()"
   ]
  },
  {
   "cell_type": "code",
   "execution_count": null,
   "metadata": {},
   "outputs": [],
   "source": [
    "str_in = \"in/taolu_noise.avi\"\n",
    "str_out = \"out/taolu_denoised_example.avi\"\n",
    "temporalNonLocalMeans(str_in, str_out)"
   ]
  }
 ],
 "metadata": {
  "kernelspec": {
   "display_name": "Python 3",
   "language": "python",
   "name": "python3"
  },
  "language_info": {
   "codemirror_mode": {
    "name": "ipython",
    "version": 3
   },
   "file_extension": ".py",
   "mimetype": "text/x-python",
   "name": "python",
   "nbconvert_exporter": "python",
   "pygments_lexer": "ipython3",
   "version": "3.7.4"
  }
 },
 "nbformat": 4,
 "nbformat_minor": 4
}
